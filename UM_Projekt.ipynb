{
 "cells": [
  {
   "cell_type": "markdown",
   "metadata": {
    "id": "ymHbz2OE18dG"
   },
   "source": [
    "# Uczenie maszynowe - Projekt\n",
    "## Klasyfikacja obrazów cyfr przy użyciu biblioteki Keras\n",
    "\n",
    "* Dominik Dmowski - 222424"
   ]
  },
  {
   "cell_type": "markdown",
   "metadata": {
    "id": "_zGjtp3F1JAR"
   },
   "source": [
    "## Imports"
   ]
  },
  {
   "cell_type": "code",
   "execution_count": null,
   "metadata": {
    "id": "52TiLt830nEY"
   },
   "outputs": [],
   "source": [
    "import numpy as np\n",
    "import matplotlib.pyplot as plt\n",
    "import keras\n",
    "from keras.models import Sequential\n",
    "from keras.layers import Dense, Dropout\n",
    "from sklearn.metrics import confusion_matrix\n",
    "import seaborn as sns\n",
    "\n",
    "%matplotlib inline\n",
    "np.random.seed(0)"
   ]
  },
  {
   "cell_type": "code",
   "execution_count": null,
   "metadata": {
    "colab": {
     "base_uri": "https://localhost:8080/"
    },
    "id": "szEH-7s_1HSL",
    "outputId": "fe718f3a-d512-4a06-da88-ae3bc784c349"
   },
   "outputs": [
    {
     "name": "stdout",
     "output_type": "stream",
     "text": [
      "Downloading data from https://storage.googleapis.com/tensorflow/tf-keras-datasets/mnist.npz\n",
      "11490434/11490434 [==============================] - 0s 0us/step\n",
      "Shapes of training dataset:  (60000, 28, 28) (60000,)\n",
      "Shapes of test dataset:  (10000, 28, 28) (10000,)\n"
     ]
    }
   ],
   "source": [
    "from keras.datasets import mnist\n",
    "(x_train, y_train), (x_test, y_test) = mnist.load_data()\n",
    "print(\"Shapes of training dataset: \", x_train.shape, y_train.shape)\n",
    "print(\"Shapes of test dataset: \", x_test.shape, y_test.shape)"
   ]
  },
  {
   "cell_type": "markdown",
   "metadata": {
    "id": "cPQp0cJy3VGd"
   },
   "source": [
    "### Wizualizacja przykładowych obrazów z biblioteki MNIST"
   ]
  },
  {
   "cell_type": "code",
   "execution_count": null,
   "metadata": {
    "colab": {
     "base_uri": "https://localhost:8080/",
     "height": 177
    },
    "id": "-PNENqJU1k4d",
    "outputId": "57cb1949-9d89-4cb5-9de5-bb5c7d988694"
   },
   "outputs": [
    {
     "name": "stdout",
     "output_type": "stream",
     "text": [
      "Przykładowe obrazy z datasetu MNIST\n"
     ]
    },
    {
     "data": {
      "image/png": "[encoded data removed]",
      "text/plain": [
       "<Figure size 1440x1440 with 10 Axes>"
      ]
     },
     "metadata": {
      "needs_background": "light"
     },
     "output_type": "display_data"
    }
   ],
   "source": [
    "num_classes = 10\n",
    "f, ax = plt.subplots(1, num_classes, figsize = (20,20))\n",
    "\n",
    "print(\"Przykładowe obrazy z datasetu MNIST\")\n",
    "for i in range (0, num_classes):\n",
    "  sample = x_train[y_train == i][0]\n",
    "  ax[i].imshow(sample, cmap='gray')\n",
    "  ax[i].set_title(\"Cyfra {}: \".format(i), fontsize = 16)\n"
   ]
  },
  {
   "cell_type": "markdown",
   "metadata": {
    "id": "dx9N4NBFK8_s"
   },
   "source": [
    "## Zamiana etykiet z cyfr na wektory"
   ]
  },
  {
   "cell_type": "code",
   "execution_count": null,
   "metadata": {
    "colab": {
     "base_uri": "https://localhost:8080/"
    },
    "id": "aH8qCySu4LJR",
    "outputId": "41931c5f-692d-4124-8f00-e34b3e92982d"
   },
   "outputs": [
    {
     "name": "stdout",
     "output_type": "stream",
     "text": [
      "[5 0 4 1 9]\n",
      "[[0. 0. 0. 0. 0. 1. 0. 0. 0. 0.]\n",
      " [1. 0. 0. 0. 0. 0. 0. 0. 0. 0.]\n",
      " [0. 0. 0. 0. 1. 0. 0. 0. 0. 0.]\n",
      " [0. 1. 0. 0. 0. 0. 0. 0. 0. 0.]\n",
      " [0. 0. 0. 0. 0. 0. 0. 0. 0. 1.]]\n"
     ]
    }
   ],
   "source": [
    "print(y_train[:5])\n",
    "\n",
    "y_train = keras.utils.to_categorical(y_train, num_classes)\n",
    "y_test = keras.utils.to_categorical(y_test, num_classes)\n",
    "print(y_train[:5])"
   ]
  },
  {
   "cell_type": "markdown",
   "metadata": {
    "id": "iaLGlTONLjMi"
   },
   "source": [
    "## Przygotowanie danych "
   ]
  },
  {
   "cell_type": "code",
   "execution_count": null,
   "metadata": {
    "id": "WujwjBZnLMib"
   },
   "outputs": [],
   "source": [
    "# Normalizacja danych wejsciowych\n",
    "x_train = x_train / 255\n",
    "x_test = x_test / 255\n",
    "\n",
    "# Zmiana wymiarowosci danych wejsciowych\n",
    "x_train = x_train.reshape(x_train.shape[0], -1)\n",
    "x_test = x_test.reshape(x_test.shape[0], -1)"
   ]
  },
  {
   "cell_type": "markdown",
   "metadata": {
    "id": "KcgneW3cMP7U"
   },
   "source": [
    "## Tworzenie modelu uczenia maszynowego"
   ]
  },
  {
   "cell_type": "code",
   "execution_count": null,
   "metadata": {
    "colab": {
     "base_uri": "https://localhost:8080/"
    },
    "id": "ySgXKFbzMLzN",
    "outputId": "4b3f0925-0a0d-4baa-a937-4de11640782b"
   },
   "outputs": [
    {
     "name": "stdout",
     "output_type": "stream",
     "text": [
      "Model: \"sequential\"\n",
      "_________________________________________________________________\n",
      " Layer (type)                Output Shape              Param #   \n",
      "=================================================================\n",
      " dense (Dense)               (None, 256)               200960    \n",
      "                                                                 \n",
      " dense_1 (Dense)             (None, 256)               65792     \n",
      "                                                                 \n",
      " dropout (Dropout)           (None, 256)               0         \n",
      "                                                                 \n",
      " dense_2 (Dense)             (None, 10)                2570      \n",
      "                                                                 \n",
      "=================================================================\n",
      "Total params: 269,322\n",
      "Trainable params: 269,322\n",
      "Non-trainable params: 0\n",
      "_________________________________________________________________\n"
     ]
    }
   ],
   "source": [
    "model = Sequential()\n",
    "\n",
    "model.add(Dense(units=256, input_shape=(784,), activation = 'relu'))\n",
    "model.add(Dense(units=256, activation='relu'))\n",
    "model.add(Dropout(.25))\n",
    "model.add(Dense(units=10, activation='softmax'))\n",
    "\n",
    "model.compile(loss = 'categorical_crossentropy', optimizer='adam', metrics=['accuracy'])\n",
    "model.summary()"
   ]
  },
  {
   "cell_type": "markdown",
   "metadata": {
    "id": "GrkKNxBSNXVs"
   },
   "source": [
    "## Trenowanie opracowanego modelu"
   ]
  },
  {
   "cell_type": "code",
   "execution_count": null,
   "metadata": {
    "colab": {
     "base_uri": "https://localhost:8080/"
    },
    "id": "XXcPIUnGNTAd",
    "outputId": "1a44cedb-2b55-44a0-c5e2-407a4d72a4a7"
   },
   "outputs": [
    {
     "name": "stdout",
     "output_type": "stream",
     "text": [
      "Epoch 1/10\n",
      "118/118 [==============================] - 4s 21ms/step - loss: 0.4456 - accuracy: 0.8740\n",
      "Epoch 2/10\n",
      "118/118 [==============================] - 2s 19ms/step - loss: 0.1647 - accuracy: 0.9522\n",
      "Epoch 3/10\n",
      "118/118 [==============================] - 1s 13ms/step - loss: 0.1131 - accuracy: 0.9666\n",
      "Epoch 4/10\n",
      "118/118 [==============================] - 2s 13ms/step - loss: 0.0830 - accuracy: 0.9751\n",
      "Epoch 5/10\n",
      "118/118 [==============================] - 2s 13ms/step - loss: 0.0662 - accuracy: 0.9803\n",
      "Epoch 6/10\n",
      "118/118 [==============================] - 2s 13ms/step - loss: 0.0523 - accuracy: 0.9842\n",
      "Epoch 7/10\n",
      "118/118 [==============================] - 2s 13ms/step - loss: 0.0416 - accuracy: 0.9876\n",
      "Epoch 8/10\n",
      "118/118 [==============================] - 1s 13ms/step - loss: 0.0340 - accuracy: 0.9901\n",
      "Epoch 9/10\n",
      "118/118 [==============================] - 2s 13ms/step - loss: 0.0285 - accuracy: 0.9914\n",
      "Epoch 10/10\n",
      "118/118 [==============================] - 2s 13ms/step - loss: 0.0235 - accuracy: 0.9927\n"
     ]
    },
    {
     "data": {
      "text/plain": [
       "<keras.callbacks.History at 0x7faf65d91370>"
      ]
     },
     "execution_count": 7,
     "metadata": {},
     "output_type": "execute_result"
    }
   ],
   "source": [
    "batch_size = 512 #liczba danych na wejsciu modelu\n",
    "epochs = 10 #liczba epok modelu\n",
    "model.fit(x = x_train, y = y_train, batch_size = batch_size, epochs = epochs)\n",
    "\n",
    "#przy kazdej nastepnej iteracji epoki wyuczonego modelu wartosci funkcji straty spada przy jednoczesnym wzroscie dokladnosci"
   ]
  },
  {
   "cell_type": "markdown",
   "metadata": {
    "id": "YZdF6kEjOA43"
   },
   "source": [
    "## Walidacja danych"
   ]
  },
  {
   "cell_type": "code",
   "execution_count": null,
   "metadata": {
    "colab": {
     "base_uri": "https://localhost:8080/"
    },
    "id": "DZacx9QvNuev",
    "outputId": "21fdd21f-eeb9-48e7-ec12-73e6b921cbc3"
   },
   "outputs": [
    {
     "name": "stdout",
     "output_type": "stream",
     "text": [
      "313/313 [==============================] - 1s 2ms/step - loss: 0.0618 - accuracy: 0.9829\n",
      "Test loss: 0.0618\n",
      "Test accuracy: 0.9829\n"
     ]
    }
   ],
   "source": [
    "test_loss, test_acc = model.evaluate(x_test, y_test)\n",
    "print(\"Test loss: {}\\nTest accuracy: {}\".format(round(test_loss,4), round(test_acc,4)))"
   ]
  },
  {
   "cell_type": "code",
   "execution_count": null,
   "metadata": {
    "colab": {
     "base_uri": "https://localhost:8080/"
    },
    "id": "YIPgWq7vOP13",
    "outputId": "b4e8134d-4497-4642-b38e-a1c0c7931fec"
   },
   "outputs": [
    {
     "name": "stdout",
     "output_type": "stream",
     "text": [
      "313/313 [==============================] - 1s 1ms/step\n",
      "[[4.5890150e-07 3.7737732e-07 7.2810476e-06 ... 9.9992245e-01\n",
      "  3.1351721e-07 8.8236739e-06]\n",
      " [1.1361964e-08 1.2290838e-06 9.9999708e-01 ... 4.9022169e-09\n",
      "  1.6171610e-07 9.1645780e-12]\n",
      " [1.4327038e-06 9.9979854e-01 3.5117922e-05 ... 9.6294665e-05\n",
      "  1.7588853e-05 8.6193808e-08]\n",
      " ...\n",
      " [6.3444597e-11 5.8517763e-10 3.4000647e-12 ... 4.1158196e-07\n",
      "  4.1201574e-08 3.4373763e-06]\n",
      " [1.6822040e-09 3.4539882e-10 2.8434163e-11 ... 3.3045430e-10\n",
      "  1.6751157e-05 4.5043000e-10]\n",
      " [4.0535809e-07 9.0723408e-11 1.4934971e-08 ... 3.0722753e-12\n",
      "  1.9191774e-08 5.5555505e-11]]\n",
      "[7 2 1 ... 4 5 6]\n"
     ]
    }
   ],
   "source": [
    "# 'reczna' walidacja\n",
    "\n",
    "y_pred = model.predict(x_test)\n",
    "y_pred_classes = np.argmax(y_pred, axis = 1)\n",
    "print(y_pred)\n",
    "print(y_pred_classes)"
   ]
  },
  {
   "cell_type": "code",
   "execution_count": null,
   "metadata": {
    "colab": {
     "base_uri": "https://localhost:8080/",
     "height": 301
    },
    "id": "efuW7pC9PKsC",
    "outputId": "2e3b2aaf-e187-446b-b639-0762db30938d"
   },
   "outputs": [
    {
     "data": {
      "text/plain": [
       "<matplotlib.image.AxesImage at 0x7faf65c414f0>"
      ]
     },
     "execution_count": 10,
     "metadata": {},
     "output_type": "execute_result"
    },
    {
     "data": {
      "image/png": "[encoded data removed]",
      "text/plain": [
       "<Figure size 432x288 with 1 Axes>"
      ]
     },
     "metadata": {
      "needs_background": "light"
     },
     "output_type": "display_data"
    }
   ],
   "source": [
    "# 'reczna' walidacja na losowym przykladzie z proby\n",
    "\n",
    "random_indx = np.random.choice(len(x_test))\n",
    "x_sample = x_test[random_indx]\n",
    "y_true = np.argmax(y_test, axis = 1)\n",
    "y_sample_true = y_true[random_indx]\n",
    "y_sample_pred_class = y_pred_classes[random_indx]\n",
    "\n",
    "plt.title(\"Przewidywana wartość: {}, Prawdziwa etykieta: {}\". format(y_sample_pred_class, y_sample_true), fontsize = 16)\n",
    "plt.imshow(x_sample.reshape(28,28), cmap='gray')"
   ]
  },
  {
   "cell_type": "markdown",
   "metadata": {
    "id": "VKMweLSwQg9D"
   },
   "source": [
    "## Macierz konfuzji"
   ]
  },
  {
   "cell_type": "code",
   "execution_count": null,
   "metadata": {
    "colab": {
     "base_uri": "https://localhost:8080/",
     "height": 640
    },
    "id": "q0VFxdX4QR5J",
    "outputId": "d7b114ab-9d72-4bd5-80bf-2e2add51bbc0"
   },
   "outputs": [
    {
     "data": {
      "text/plain": [
       "Text(0.5, 1.0, 'Macierz konfuzji')"
      ]
     },
     "execution_count": 11,
     "metadata": {},
     "output_type": "execute_result"
    },
    {
     "data": {
      "image/png": "[encoded data removed]",
      "text/plain": [
       "<Figure size 1080x720 with 2 Axes>"
      ]
     },
     "metadata": {
      "needs_background": "light"
     },
     "output_type": "display_data"
    }
   ],
   "source": [
    "confusion_mtx = confusion_matrix(y_true, y_pred_classes)\n",
    "\n",
    "fig, ax = plt.subplots(figsize=(15,10))\n",
    "ax = sns.heatmap(confusion_mtx, annot = True, fmt='d', ax = ax, cmap = 'Blues')\n",
    "ax.set_xlabel('Przewidywana wartość')\n",
    "ax.set_ylabel('Przewidywana etykieta')\n",
    "ax.set_title('Macierz konfuzji')\n"
   ]
  },
  {
   "cell_type": "markdown",
   "metadata": {
    "id": "sI8HL1W2R8Vs"
   },
   "source": [
    "## Śledzenie błędów modelu"
   ]
  },
  {
   "cell_type": "code",
   "execution_count": null,
   "metadata": {
    "colab": {
     "base_uri": "https://localhost:8080/",
     "height": 383
    },
    "id": "wMI3ly_oRSOU",
    "outputId": "bf51f37f-c1cc-4efc-a772-5a65f96c681d"
   },
   "outputs": [
    {
     "data": {
      "image/png": "[encoded data removed]",
      "text/plain": [
       "<Figure size 2160x2160 with 5 Axes>"
      ]
     },
     "metadata": {
      "needs_background": "light"
     },
     "output_type": "display_data"
    }
   ],
   "source": [
    "errors = (y_pred_classes - y_true != 0)\n",
    "y_pred_classes_errors = y_pred_classes[errors]\n",
    "y_pred_errors = y_pred[errors]\n",
    "y_true_errors = y_true[errors]\n",
    "x_test_errors = x_test[errors]\n",
    "\n",
    "#szukanie błędów o najwyższej wartości prawdopodobieństwa\n",
    "y_pred_errors_probability = np.max(y_pred_errors, axis = 1)\n",
    "true_probability_errors = np.diagonal(np.take(y_pred_errors, y_true_errors, axis=1))\n",
    "diff_errors_pred_true = y_pred_errors_probability - true_probability_errors\n",
    "\n",
    "# ustawienie blokow bledow w kolejnosci najmniejszej zgodnosci prawdopodobienstwa\n",
    "sorted_indx_diff_errors = np.argsort(diff_errors_pred_true)\n",
    "top_indx_diff_error = sorted_indx_diff_errors[-5:]\n",
    "\n",
    "# wyświetlenie wyliczonych najczęstszych błędów\n",
    "num = len(top_indx_diff_error)\n",
    "f, ax = plt.subplots(1, num, figsize=(30,30))\n",
    "for i in range (0, num):\n",
    "  indx = top_indx_diff_error[i]\n",
    "  sample = x_test_errors[indx].reshape(28,28)\n",
    "  y_t = y_true_errors[indx]\n",
    "  y_p = y_pred_classes_errors[indx]\n",
    "  ax[i].imshow(sample, cmap='gray')\n",
    "  ax[i].set_title(\"Przewidywana wartość: {}\\nPrawdziwa wartość: {}\".format(y_p, y_t), fontsize = 22)"
   ]
  },
  {
   "cell_type": "markdown",
   "metadata": {
    "id": "jSUDjJyLQPCy"
   },
   "source": [
    "## Zapisywanie i eksport modelu\n"
   ]
  },
  {
   "cell_type": "code",
   "execution_count": null,
   "metadata": {
    "id": "cZRyBH4mUUeZ"
   },
   "outputs": [],
   "source": [
    "model.save(\"my_model.h5\")"
   ]
  },
  {
   "cell_type": "code",
   "execution_count": null,
   "metadata": {
    "id": "Yck3Ku33QzCo"
   },
   "outputs": [],
   "source": []
  }
 ],
 "metadata": {
  "colab": {
   "provenance": []
  },
  "kernelspec": {
   "display_name": "Python 3",
   "language": "python",
   "name": "python3"
  },
  "language_info": {
   "codemirror_mode": {
    "name": "ipython",
    "version": 3
   },
   "file_extension": ".py",
   "mimetype": "text/x-python",
   "name": "python",
   "nbconvert_exporter": "python",
   "pygments_lexer": "ipython3",
   "version": "3.8.8"
  }
 },
 "nbformat": 4,
 "nbformat_minor": 1
}
